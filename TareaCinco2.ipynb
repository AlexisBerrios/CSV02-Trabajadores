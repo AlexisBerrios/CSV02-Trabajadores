{
  "nbformat": 4,
  "nbformat_minor": 0,
  "metadata": {
    "colab": {
      "name": "TareaCinco2.ipynb",
      "provenance": []
    },
    "kernelspec": {
      "name": "python3",
      "display_name": "Python 3"
    },
    "language_info": {
      "name": "python"
    }
  },
  "cells": [
    {
      "cell_type": "code",
      "metadata": {
        "id": "IDAuWnfRVJs9"
      },
      "source": [
        "#Tarea 5, 2do intento. esta vez solo haciendo los métodos para obtener \n",
        "#el empleado más antiguo y el menos antiguo"
      ],
      "execution_count": 121,
      "outputs": []
    },
    {
      "cell_type": "code",
      "metadata": {
        "id": "eE7rPHJil_Jp"
      },
      "source": [
        "class Array:\n",
        "    def __init__( self , tam ):\n",
        "        self.__tamanio = tam\n",
        "        self.__data = [ 0 for x in range(self.__tamanio) ]\n",
        "\n",
        "    def to_string( self ):\n",
        "        info = \"\"\n",
        "        for dato in self.__data:\n",
        "            info = info + str(dato) +\"|\"\n",
        "        return info\n",
        "\n",
        "    def get_item( self , index ):\n",
        "        return self.__data[index]\n",
        "\n",
        "    def get_length( self ):\n",
        "        return len( self.__data )\n",
        "\n",
        "    def set_item( self , dato , index):\n",
        "    # hace falta revisar limites\n",
        "        if index >= 0 and index < self.get_length():\n",
        "            self.__data[index] = dato\n",
        "        else:\n",
        "            print(\"Error: indice fuera de rango\")\n",
        "\n",
        "    def clear( self , dato ):\n",
        "        self.__data = [ dato for x in range(self.__tamanio) ]\n",
        "\n",
        "ejemplo = Array(20)"
      ],
      "execution_count": 2,
      "outputs": []
    },
    {
      "cell_type": "code",
      "metadata": {
        "colab": {
          "base_uri": "https://localhost:8080/"
        },
        "id": "5yCckIuRENIQ",
        "outputId": "8b0a0b83-4412-4e97-f690-bb4d189250a4"
      },
      "source": [
        "!ls -la "
      ],
      "execution_count": 3,
      "outputs": [
        {
          "output_type": "stream",
          "name": "stdout",
          "text": [
            "total 20\n",
            "drwxr-xr-x 1 root root 4096 Oct 13 15:05 .\n",
            "drwxr-xr-x 1 root root 4096 Oct 13 14:55 ..\n",
            "drwxr-xr-x 4 root root 4096 Oct  8 13:44 .config\n",
            "-rw-r--r-- 1 root root  638 Oct 13 15:05 junio.dat\n",
            "drwxr-xr-x 1 root root 4096 Oct  8 13:45 sample_data\n"
          ]
        }
      ]
    },
    {
      "cell_type": "code",
      "metadata": {
        "colab": {
          "base_uri": "https://localhost:8080/"
        },
        "id": "TrHK3CuhENvd",
        "outputId": "cab7d569-8995-4cf8-beeb-155879648cd7"
      },
      "source": [
        "!cat junio.dat"
      ],
      "execution_count": 4,
      "outputs": [
        {
          "output_type": "stream",
          "name": "stdout",
          "text": [
            "numero de trabajador, nombres, paterno, materno, horas extra, sueldo base, año de ingreso\r\n",
            "2345,CARLOS,PEREZ,CASTILLO,0,9850,2017\r\n",
            "5754,ANGEL,GOMEZ,GARRIDO,1,9850,2020\r\n",
            "5345,JESUS,MARTIN,SANTOS,2,9850,2016\r\n",
            "3267,DAVID,JIMENEZ,LOZANO,2,9850,2017\r\n",
            "8765,PEDRO,RUIZ,GUERRERO,2,9850,2017\r\n",
            "5454,DANIEL,HERNANDEZ,CANO,3,9850,2018\r\n",
            "3456,ALEJANDRO,DIAZ,PRIETO,2,9850,2018\r\n",
            "3445,MARIA,MORENO,MENDEZ,1,9850,2018\r\n",
            "9088,ALBERTO,MU�OZ,CRUZ,1,9850,2017\r\n",
            "8877,RAFAEL,ALVAREZ,FLORES,2,9850,2017\r\n",
            "6767,FERNANDO,ROMERO,HERRERA,4,9850,2019\r\n",
            "5654,PABLO,ALONSO,GALLEGO,1,9850,2019\r\n",
            "4323,JORGE,GUTIERREZ,MARQUEZ,2,9850,2020\r\n",
            "2232,RAMON,NAVARRO,LEON,1,9850,2016"
          ]
        }
      ]
    },
    {
      "cell_type": "code",
      "metadata": {
        "id": "kuUzQAgREP0S"
      },
      "source": [
        "archivo = open('junio.dat', 'rt', encoding='latin-1')\n",
        "print(archivo.readlines())"
      ],
      "execution_count": 115,
      "outputs": []
    },
    {
      "cell_type": "code",
      "metadata": {
        "colab": {
          "base_uri": "https://localhost:8080/"
        },
        "id": "2wGjSn8pFWaU",
        "outputId": "a379aa18-a93a-45bd-f9ed-33a369fd0054"
      },
      "source": [
        "class Trabajador:\n",
        "    def __init__(self, nt, nom , pat , mat , he, sb, ai):\n",
        "        self.__numero_trabajador = nt\n",
        "        self.__nombre = nom\n",
        "        self.__paterno = pat\n",
        "        self.__materno = mat\n",
        "        self.__horas_extra = he\n",
        "        self.__sueldo_base = sb\n",
        "        self.__anio_ingreso = ai\n",
        "#metodos de acceso\n",
        "    def set_numero_trabajador(self, nt):\n",
        "        self.__numero_trabajador = nt \n",
        "\n",
        "    def get_numero_trabajador(self):\n",
        "        return self.__numero_trabajador\n",
        "\n",
        "    def set_nombre(self, nom):\n",
        "        self.__nombres=nom\n",
        "\n",
        "    def get_nombre(self):\n",
        "        return self.__nombre\n",
        "\n",
        "    def set_paterno(self, pat):\n",
        "        self.__nombre_paterno=pat\n",
        "\n",
        "    def get_paterno(self):\n",
        "        return self.__paterno\n",
        "\n",
        "    def set_materno(self, mat):\n",
        "        self.__materno=mat\n",
        "\n",
        "    def get_materno(self):\n",
        "        return self.__materno\n",
        "\n",
        "    def set_horas_extra(self, he):\n",
        "        self.__horas_extras=he\n",
        "\n",
        "    def get_horas_extra(self):\n",
        "        return self.__horas_extra\n",
        "\n",
        "    def set_sueldo_base(self, sb):\n",
        "        self.__sueldo_base=sb\n",
        "\n",
        "    def get_sueldo_base(self):\n",
        "        return self.__sueldo_base\n",
        "\n",
        "    def set_nombre(self, nom):\n",
        "        self.__nombre = nom\n",
        "    \n",
        "    def get_nombre(self):\n",
        "        return self.__nombre\n",
        "    \n",
        "    def set_anio_ingreso(self, ai):\n",
        "        self.__anio_ingreso = ai\n",
        "\n",
        "    def get_anio_ingreso(self):\n",
        "        return self.__anio_ingreso\n",
        "\n",
        "#metodos de uso gnral. \n",
        "\n",
        "    def calcular_sueldo_mensual(self):\n",
        "        anios=2021 - self.get_anio_ingreso()\n",
        "\n",
        "        sueldo= self.get_sueldo_base()\n",
        "        #agregarle horas extra\n",
        "        sueldo+=self.get_horas_extra() * 276.5\n",
        "        #agregar prestacion por año de antiguedad\n",
        "        sueldo = sueldo + (sueldo * anios * 0.03)\n",
        "        return sueldo\n",
        "\n",
        "    def to_string(self):\n",
        "        return \" Nombre: \" + self.__nombre + \" Sueldo: $\" + str(self.calcular_sueldo_mensual())\n",
        "        \n",
        "    def calcular_antiguedad(self):\n",
        "        return 2021 - self.get_anio_ingreso()\n",
        "\n",
        "temp = Trabajador(2345,'CARLOS','PEREZ','CASTILLO',1,9850,2017)\n",
        "print(temp.get_sueldo_base())\n",
        "print(temp.get_horas_extra())\n",
        "print(temp.calcular_antiguedad())\n",
        "print(temp.to_string())"
      ],
      "execution_count": 78,
      "outputs": [
        {
          "output_type": "stream",
          "name": "stdout",
          "text": [
            "9850\n",
            "1\n",
            "4\n",
            " Nombre: CARLOS Sueldo: $11341.68\n"
          ]
        }
      ]
    },
    {
      "cell_type": "code",
      "metadata": {
        "colab": {
          "base_uri": "https://localhost:8080/"
        },
        "id": "joJBhguxMPYt",
        "outputId": "d152855e-0de4-4f7c-9729-8e640a1b2413"
      },
      "source": [
        "class NominaADT:\n",
        "    def __init__(self, ruta_archivo):\n",
        "      #abrir el archivo \n",
        "        archivo = open(ruta_archivo, 'rt' , encoding='latin-1')\n",
        "        empleados = archivo.readlines()\n",
        "        del empleados[0]\n",
        "        for index in range(len(empleados)):\n",
        "            empleados[index]=empleados[index].strip().split(',')\n",
        "        self.__data=Array(len(empleados))\n",
        "        cont=0\n",
        "        for temp in empleados:\n",
        "            tmp = Trabajador(int(temp[0]), temp[1], temp[2], temp[3], int(temp[4]), int(temp[5]), int(temp[6]))\n",
        "            self.__data.set_item(tmp , cont)\n",
        "            cont += 1\n",
        "\n",
        "    def buscar_mas_antiguo(self):\n",
        "        archivo = open('junio.dat', 'rt', encoding='latin-1')\n",
        "        lineas = archivo.read().splitlines() #dividir por lineas y almacenar el archivo en un array\n",
        "        lineas.pop(0) #eliminar la primera linea\n",
        "        antiguedad=[]\n",
        "        for a in lineas:\n",
        "            #print(archivo.read())\n",
        "            datos=a.split(',')  #dividir por sus comas el array\n",
        "            datos[6] = int(datos[6])\n",
        "            años_antigue = 2021-datos[6] #Obtener los años de antiguedad restando 2021 a datos en pos [6]\n",
        "            datos.append(años_antigue)  #agregar un años de antiguedad a (posicion 6) a \"datos\"\n",
        "            #print(datos) \n",
        "            antiguedad.append(datos[1])\n",
        "            antiguedad.append(datos[2])\n",
        "            antiguedad.append(datos[3])\n",
        "            antiguedad.append(datos[7])\n",
        "            o=[antiguedad[i*4:i*4+4]for i in range(14)]\n",
        "        mas_antiguo = sorted(o, key=lambda antiguedad : antiguedad[3], reverse=True)\n",
        "        return print('El empleado más antiguo es: ',mas_antiguo[0], 'el nùmero final son los años trabajando')\n",
        "\n",
        "    def buscar_menor_antiguedad(self):\n",
        "        archivo = open('junio.dat', 'rt', encoding='latin-1')\n",
        "        lineas = archivo.read().splitlines()\n",
        "        lineas.pop(0) \n",
        "        antiguedad=[]\n",
        "        for a in lineas:\n",
        "            #print(archivo.read())\n",
        "            datos=a.split(',')  \n",
        "            datos[6] = int(datos[6])\n",
        "            años_antigue = 2021-datos[6]\n",
        "            datos.append(años_antigue) \n",
        "            antiguedad.append(datos[1])\n",
        "            antiguedad.append(datos[2])\n",
        "            antiguedad.append(datos[3])\n",
        "            antiguedad.append(datos[7])\n",
        "            o=[antiguedad[i*4:i*4+4]for i in range(14)]\n",
        "        menor_antiguo = sorted(o, key=lambda antiguedad : antiguedad[3], reverse=True)\n",
        "        return print('El empleado menos antiguo es: ', menor_antiguo[13], 'el nùmero final son los años trabajando')\n",
        "        \n",
        "    def calcular_sueldos(self):\n",
        "        for index in range(self.__data.get_length()):\n",
        "            print(self.__data.get_item(index).to_string())\n",
        "\n",
        "            \n",
        "            #print(datos)  \n",
        "            #años_antiguedad.append(años_antigue)\n",
        "            #sorted(lineas, key=lambda antiguedad : antiguedad[6], reverse=True)\n",
        "\n",
        "ejemplo = NominaADT('junio.dat')\n",
        "ejemplo.calcular_sueldos()\n",
        "ejemplo.buscar_mas_antiguo()\n",
        "ejemplo.buscar_menor_antiguedad()"
      ],
      "execution_count": 120,
      "outputs": [
        {
          "output_type": "stream",
          "name": "stdout",
          "text": [
            " Nombre: CARLOS Sueldo: $11032.0\n",
            " Nombre: ANGEL Sueldo: $10430.295\n",
            " Nombre: JESUS Sueldo: $11963.45\n",
            " Nombre: DAVID Sueldo: $11651.36\n",
            " Nombre: PEDRO Sueldo: $11651.36\n",
            " Nombre: DANIEL Sueldo: $11640.655\n",
            " Nombre: ALEJANDRO Sueldo: $11339.27\n",
            " Nombre: MARIA Sueldo: $11037.885\n",
            " Nombre: ALBERTO Sueldo: $11341.68\n",
            " Nombre: RAFAEL Sueldo: $11651.36\n",
            " Nombre: FERNANDO Sueldo: $11613.36\n",
            " Nombre: PABLO Sueldo: $10734.09\n",
            " Nombre: JORGE Sueldo: $10715.09\n",
            " Nombre: RAMON Sueldo: $11645.475\n",
            "El empleado más antiguo es:  ['JESUS', 'MARTIN', 'SANTOS', 5] el nùmero final son los años trabajando\n",
            "El empleado menos antiguo es:  ['JORGE', 'GUTIERREZ', 'MARQUEZ', 1] el nùmero final son los años trabajando\n"
          ]
        }
      ]
    },
    {
      "cell_type": "code",
      "metadata": {
        "colab": {
          "base_uri": "https://localhost:8080/"
        },
        "id": "fIi5UEq5khUj",
        "outputId": "0f73a39c-472c-441c-ba1b-9d9fb2cc7813"
      },
      "source": [
        "sueldo_base=100\n",
        "anio=2019\n",
        "anti=2\n",
        "prestacion=100*(2*0.03)\n",
        "print(sueldo_base + prestacion)"
      ],
      "execution_count": 43,
      "outputs": [
        {
          "output_type": "stream",
          "name": "stdout",
          "text": [
            "106.0\n"
          ]
        }
      ]
    },
    {
      "cell_type": "code",
      "metadata": {
        "colab": {
          "base_uri": "https://localhost:8080/"
        },
        "id": "tuaYbo9xkhZe",
        "outputId": "a2418086-2681-4c82-94e6-b009265315c2"
      },
      "source": [
        "..."
      ],
      "execution_count": 39,
      "outputs": [
        {
          "output_type": "stream",
          "name": "stdout",
          "text": [
            "[]\n"
          ]
        }
      ]
    }
  ]
}