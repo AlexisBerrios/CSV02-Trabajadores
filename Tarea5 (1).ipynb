{
  "nbformat": 4,
  "nbformat_minor": 0,
  "metadata": {
    "colab": {
      "name": "Tarea5.ipynb",
      "provenance": [],
      "collapsed_sections": []
    },
    "kernelspec": {
      "display_name": "Python 3",
      "name": "python3"
    },
    "language_info": {
      "name": "python"
    }
  },
  "cells": [
    {
      "cell_type": "code",
      "metadata": {
        "id": "uGbsbJvMzy3I"
      },
      "source": [
        "#el archivo junio.dat contiene datos de trabajadores de una empresa.\n",
        "#se nos da una estructura (Que yo elimine con la funcion .pop(0), al inicio de la importacion del archivo)\n",
        "#1: se nos pide calcular el sueldo sumado a las horas extras de cada trabajador\n",
        "#2: calcular la prestación del 3% del sueldo por año, de cada trabajador (estos dos puntos desarrollados en el bloque numero 6)\n",
        "#3: que se desplgue en pantalla el trabajador con mayor antiguedad y el de menor antiguedad (BLoque numero 8)\n",
        "#en este ultimo punto además de desplguegar al trabajador de mayor y menor antiguedad, tambien se despleguigan a todos \n",
        "#todos los trabajadores ordenados de mayor a menor antriguedad, con todos sus demás respectivos datos\n",
        "#Además de esto, al final se encuentran otros 2 metodos de ordenamiento, con tuplas y con el metodo de la burbuja, \n",
        "#los hice primeramente y ya no los quise eliminar porque me tarde horas haciendolos);"
      ],
      "execution_count": null,
      "outputs": []
    },
    {
      "cell_type": "code",
      "metadata": {
        "colab": {
          "base_uri": "https://localhost:8080/"
        },
        "id": "LrmB2tzekpFn",
        "outputId": "764fe99f-deaa-4025-f793-d248e1d51dcc"
      },
      "source": [
        "!ls -la "
      ],
      "execution_count": null,
      "outputs": [
        {
          "name": "stdout",
          "output_type": "stream",
          "text": [
            "total 20\n",
            "drwxr-xr-x 1 root root 4096 Oct 11 23:42 .\n",
            "drwxr-xr-x 1 root root 4096 Oct 11 23:41 ..\n",
            "drwxr-xr-x 4 root root 4096 Oct  8 13:44 .config\n",
            "-rw-r--r-- 1 root root  638 Oct 11 23:42 junio.dat\n",
            "drwxr-xr-x 1 root root 4096 Oct  8 13:45 sample_data\n"
          ]
        }
      ]
    },
    {
      "cell_type": "code",
      "metadata": {
        "colab": {
          "base_uri": "https://localhost:8080/"
        },
        "id": "71nN3oS9wGmA",
        "outputId": "b4740f90-aa64-4365-84d1-180c71e7f87e"
      },
      "source": [
        "!cat junio.dat"
      ],
      "execution_count": null,
      "outputs": [
        {
          "name": "stdout",
          "output_type": "stream",
          "text": [
            "numero de trabajador, nombres, paterno, materno, horas extra, sueldo base, año de ingreso\r\n",
            "2345,CARLOS,PEREZ,CASTILLO,0,9850,2017\r\n",
            "5754,ANGEL,GOMEZ,GARRIDO,1,9850,2020\r\n",
            "5345,JESUS,MARTIN,SANTOS,2,9850,2016\r\n",
            "3267,DAVID,JIMENEZ,LOZANO,2,9850,2017\r\n",
            "8765,PEDRO,RUIZ,GUERRERO,2,9850,2017\r\n",
            "5454,DANIEL,HERNANDEZ,CANO,3,9850,2018\r\n",
            "3456,ALEJANDRO,DIAZ,PRIETO,2,9850,2018\r\n",
            "3445,MARIA,MORENO,MENDEZ,1,9850,2018\r\n",
            "9088,ALBERTO,MU�OZ,CRUZ,1,9850,2017\r\n",
            "8877,RAFAEL,ALVAREZ,FLORES,2,9850,2017\r\n",
            "6767,FERNANDO,ROMERO,HERRERA,4,9850,2019\r\n",
            "5654,PABLO,ALONSO,GALLEGO,1,9850,2019\r\n",
            "4323,JORGE,GUTIERREZ,MARQUEZ,2,9850,2020\r\n",
            "2232,RAMON,NAVARRO,LEON,1,9850,2016"
          ]
        }
      ]
    },
    {
      "cell_type": "code",
      "metadata": {
        "colab": {
          "base_uri": "https://localhost:8080/"
        },
        "id": "NzU46nRcwKGt",
        "outputId": "3efc2f0c-cde1-440f-f4f2-dae5b84579b2"
      },
      "source": [
        "#MUESTRA DEL ARCHIVO GUARDADO EN UN ARRAY, CON ESTOS DATOS TRABAJAREMOS ADELANTE\n",
        "archivo = open('junio.dat', 'rt', encoding='latin-1')\n",
        "#print(archivo.read())\n",
        "lineas = archivo.read().splitlines() #dividir por lineas y almacenar el archivo en un array\n",
        "#print(lineas)\n",
        "lineas.pop(0) #eliminar la primera linea\n",
        "for a in lineas:\n",
        "    linea=a.split(',')  #dividir por sus comas el array\n",
        "    print(linea)  "
      ],
      "execution_count": null,
      "outputs": [
        {
          "name": "stdout",
          "output_type": "stream",
          "text": [
            "['2345', 'CARLOS', 'PEREZ', 'CASTILLO', '0', '9850', '2017']\n",
            "['5754', 'ANGEL', 'GOMEZ', 'GARRIDO', '1', '9850', '2020']\n",
            "['5345', 'JESUS', 'MARTIN', 'SANTOS', '2', '9850', '2016']\n",
            "['3267', 'DAVID', 'JIMENEZ', 'LOZANO', '2', '9850', '2017']\n",
            "['8765', 'PEDRO', 'RUIZ', 'GUERRERO', '2', '9850', '2017']\n",
            "['5454', 'DANIEL', 'HERNANDEZ', 'CANO', '3', '9850', '2018']\n",
            "['3456', 'ALEJANDRO', 'DIAZ', 'PRIETO', '2', '9850', '2018']\n",
            "['3445', 'MARIA', 'MORENO', 'MENDEZ', '1', '9850', '2018']\n",
            "['9088', 'ALBERTO', 'MU\\x84OZ', 'CRUZ', '1', '9850', '2017']\n",
            "['8877', 'RAFAEL', 'ALVAREZ', 'FLORES', '2', '9850', '2017']\n",
            "['6767', 'FERNANDO', 'ROMERO', 'HERRERA', '4', '9850', '2019']\n",
            "['5654', 'PABLO', 'ALONSO', 'GALLEGO', '1', '9850', '2019']\n",
            "['4323', 'JORGE', 'GUTIERREZ', 'MARQUEZ', '2', '9850', '2020']\n",
            "['2232', 'RAMON', 'NAVARRO', 'LEON', '1', '9850', '2016']\n"
          ]
        }
      ]
    },
    {
      "cell_type": "code",
      "metadata": {
        "id": "_0FM9sbtwNAZ"
      },
      "source": [
        "class trabajador:\n",
        "    def __init__(self, nt, nom , pat , mat , he, sb, ai):\n",
        "        self.__numero_trabajdor = nt\n",
        "        self.__nombres = nom\n",
        "        self.__paterno = pat\n",
        "        self.__materno = mat\n",
        "        self.__horas_extra = he\n",
        "        self.__sueldo_base = sb\n",
        "        self.__anio_ingreso = ai\n",
        "#metodos de acceso\n",
        "    def sett_numero_trabajador(self, nt):\n",
        "        self.__numero_trabajador = nt \n",
        "    def set_nombres(self, nom):\n",
        "        self.__nombres=nom\n",
        "    def set_nombre_paterno(self, pat):\n",
        "        self.__nombre_paterno=pat\n",
        "    def set_nombre_materno(self, mat):\n",
        "        self.__nombre_materno=mat \n",
        "    def set__nombres(self, he):\n",
        "        self.__horas_extras=he\n",
        "    def set__nombres(self, ai):\n",
        "        self.__anios_ant=ai          \n",
        "\n",
        "#metodos de uso gnral. "
      ],
      "execution_count": null,
      "outputs": []
    },
    {
      "cell_type": "code",
      "metadata": {
        "id": "g291NXJ0wNnG",
        "colab": {
          "base_uri": "https://localhost:8080/"
        },
        "outputId": "a442a7be-819e-48fe-a632-488c25d5d93f"
      },
      "source": [
        "class nominaADT:\n",
        "#metodo para obtener los sueldos de los empleados (punto numero uno)\n",
        "    def calcular_sueldos(self):\n",
        "        for a in lineas:\n",
        "            linea=a.split(',')  #dividir por comas el array\n",
        "            linea[4] =float(linea[4])\n",
        "            linea[5]=float(linea[5])\n",
        "            op = linea[4] * 276.5 #multiplicar las horas extras por el valor del sueldo por hora extra\n",
        "            #print(op)\n",
        "            sueldo = op + linea[5] \n",
        "            print('Los sueldos de los empleados en orden al archivo .dat son: ',sueldo)\n",
        "            #datos.append([float(linea[4]), float(linea[5])])\n",
        "            #print(datos)\n",
        "#metodo para obtener prestaciones (punto numero dos)\n",
        "    def prestaciones(self):\n",
        "        #para calular las prestaciones necesitamos primero calcular los años de antiguedad (3% = 0.03 del sueldo por año de antiguedad)\n",
        "        for a in lineas: #for para obtener los años de antiguedad\n",
        "            linea=a.split(',')  #dividir por comas el array\n",
        "            linea[6] =float(linea[6])\n",
        "            años_antig = 2021-linea[6]\n",
        "            #print(años_antig)\n",
        "            op=0.03*años_antig\n",
        "            linea[5]=float(linea[5])\n",
        "            prestaciones=op*linea[5]\n",
        "            print('prestaciones en orden al archivo: ',prestaciones)\n",
        "\n",
        "array = nominaADT()\n",
        "array.calcular_sueldos()\n",
        "array.prestaciones()\n",
        "#iterar y hacer calcular de sueldos\n",
        "    #def buscar_mas_antiguo(self):"
      ],
      "execution_count": 88,
      "outputs": [
        {
          "output_type": "stream",
          "name": "stdout",
          "text": [
            "Los sueldos de los empleados en orden al archivo .dat son:  9850.0\n",
            "Los sueldos de los empleados en orden al archivo .dat son:  10126.5\n",
            "Los sueldos de los empleados en orden al archivo .dat son:  10403.0\n",
            "Los sueldos de los empleados en orden al archivo .dat son:  10403.0\n",
            "Los sueldos de los empleados en orden al archivo .dat son:  10403.0\n",
            "Los sueldos de los empleados en orden al archivo .dat son:  10679.5\n",
            "Los sueldos de los empleados en orden al archivo .dat son:  10403.0\n",
            "Los sueldos de los empleados en orden al archivo .dat son:  10126.5\n",
            "Los sueldos de los empleados en orden al archivo .dat son:  10126.5\n",
            "Los sueldos de los empleados en orden al archivo .dat son:  10403.0\n",
            "Los sueldos de los empleados en orden al archivo .dat son:  10956.0\n",
            "Los sueldos de los empleados en orden al archivo .dat son:  10126.5\n",
            "Los sueldos de los empleados en orden al archivo .dat son:  10403.0\n",
            "Los sueldos de los empleados en orden al archivo .dat son:  10126.5\n",
            "prestaciones en orden al archivo:  1182.0\n",
            "prestaciones en orden al archivo:  295.5\n",
            "prestaciones en orden al archivo:  1477.5\n",
            "prestaciones en orden al archivo:  1182.0\n",
            "prestaciones en orden al archivo:  1182.0\n",
            "prestaciones en orden al archivo:  886.5\n",
            "prestaciones en orden al archivo:  886.5\n",
            "prestaciones en orden al archivo:  886.5\n",
            "prestaciones en orden al archivo:  1182.0\n",
            "prestaciones en orden al archivo:  1182.0\n",
            "prestaciones en orden al archivo:  591.0\n",
            "prestaciones en orden al archivo:  591.0\n",
            "prestaciones en orden al archivo:  295.5\n",
            "prestaciones en orden al archivo:  1477.5\n"
          ]
        }
      ]
    },
    {
      "cell_type": "code",
      "metadata": {
        "colab": {
          "base_uri": "https://localhost:8080/"
        },
        "id": "r0bOnkigyyXz",
        "outputId": "eb9c56ec-dda9-4a5d-cb4d-fcbf9763dc1f"
      },
      "source": [
        "#EN ESTE BLOQUE DE CODIGO AGREGAREMOS LOS AÑOS DE ANTIGUEDAD DE CADA TRABAJADOR Al array \"CODIGO\"\n",
        "#en la posicion 7, nos servira para encontrar el nombre del trabajador con más antiguedad, más adelante\n",
        "archivo = open('junio.dat', 'rt', encoding='latin-1')\n",
        "lineas = archivo.read().splitlines() #dividir por lineas y almacenar el archivo en un array\n",
        "lineas.pop(0) #eliminar la primera linea\n",
        "for a in lineas:\n",
        "    #print(archivo.read())\n",
        "    datos=a.split(',')  #dividir por sus comas el array\n",
        "    datos[6] = int(datos[6])\n",
        "    años_antigue = 2021-datos[6] #Obtener los años de antiguedad restando 2021 a datos en pos [6]\n",
        "    datos.append(años_antigue)  #agregar un años de antiguedad a (posicion 6) a \"datos\"\n",
        "    print(datos)  \n",
        "    #años_antiguedad.append(años_antigue)\n",
        "#print(años_antiguedad)"
      ],
      "execution_count": 10,
      "outputs": [
        {
          "output_type": "stream",
          "name": "stdout",
          "text": [
            "['2345', 'CARLOS', 'PEREZ', 'CASTILLO', '0', '9850', 2017, 4]\n",
            "['5754', 'ANGEL', 'GOMEZ', 'GARRIDO', '1', '9850', 2020, 1]\n",
            "['5345', 'JESUS', 'MARTIN', 'SANTOS', '2', '9850', 2016, 5]\n",
            "['3267', 'DAVID', 'JIMENEZ', 'LOZANO', '2', '9850', 2017, 4]\n",
            "['8765', 'PEDRO', 'RUIZ', 'GUERRERO', '2', '9850', 2017, 4]\n",
            "['5454', 'DANIEL', 'HERNANDEZ', 'CANO', '3', '9850', 2018, 3]\n",
            "['3456', 'ALEJANDRO', 'DIAZ', 'PRIETO', '2', '9850', 2018, 3]\n",
            "['3445', 'MARIA', 'MORENO', 'MENDEZ', '1', '9850', 2018, 3]\n",
            "['9088', 'ALBERTO', 'MU\\x84OZ', 'CRUZ', '1', '9850', 2017, 4]\n",
            "['8877', 'RAFAEL', 'ALVAREZ', 'FLORES', '2', '9850', 2017, 4]\n",
            "['6767', 'FERNANDO', 'ROMERO', 'HERRERA', '4', '9850', 2019, 2]\n",
            "['5654', 'PABLO', 'ALONSO', 'GALLEGO', '1', '9850', 2019, 2]\n",
            "['4323', 'JORGE', 'GUTIERREZ', 'MARQUEZ', '2', '9850', 2020, 1]\n",
            "['2232', 'RAMON', 'NAVARRO', 'LEON', '1', '9850', 2016, 5]\n"
          ]
        }
      ]
    },
    {
      "cell_type": "code",
      "metadata": {
        "colab": {
          "base_uri": "https://localhost:8080/"
        },
        "id": "dwDQTMkldutV",
        "outputId": "b0f5114d-118e-4915-f600-dd901ba1ae0a"
      },
      "source": [
        "#LAS HORAS SON EL ULTIMO DATO DEL ARRAY\n",
        "#EMPLEADOS ORDENADOS DE MAYOR A MENOR CON SUS DATOS, INCLUIDO LOS NOMBRES, \n",
        "class trabajador:\n",
        "    def __init__(self, nt, nom , pat , mat , he, sb, ai):\n",
        "        self.__numero_trabajdor = nt\n",
        "        self.__nombres = nom\n",
        "        self.__paterno = pat\n",
        "        self.__materno = mat\n",
        "        self.__horas_extra = he\n",
        "        self.__sueldo_base = sb\n",
        "        self.__anio_ingreso = ai\n",
        "        self.__antiguedad = ant\n",
        "    def __repr__(self):\n",
        "        return repr((self.ant, self.ai, self.sb, self.he, self.mat, self.pat, self.nt))    \n",
        "sorted(tuplas_datos, key=lambda antiguedad : antiguedad[7], reverse=True)\n",
        "#SIN embargo segui investigando algunos metodos de ordenamiento y los incluire más adelante\n",
        "#Pero hasta aquí esta el programa que responde a cada punto de la de tarea"
      ],
      "execution_count": 36,
      "outputs": [
        {
          "output_type": "execute_result",
          "data": {
            "text/plain": [
              "[('5345', 'JESUS', 'MARTIN', 'SANTOS', '2', '9850', 2016, 5),\n",
              " ('2232', 'RAMON', 'NAVARRO', 'LEON', '1', '9850', 2016, 5),\n",
              " ('2345', 'CARLOS', 'PEREZ', 'CASTILLO', '0', '9850', 2017, 4),\n",
              " ('3267', 'DAVID', 'JIMENEZ', 'LOZANO', '2', '9850', 2017, 4),\n",
              " ('8765', 'PEDRO', 'RUIZ', 'GUERRERO', '2', '9850', 2017, 4),\n",
              " ('9088', 'ALBERTO', 'MU\\x84OZ', 'CRUZ', '1', '9850', 2017, 4),\n",
              " ('8877', 'RAFAEL', 'ALVAREZ', 'FLORES', '2', '9850', 2017, 4),\n",
              " ('5454', 'DANIEL', 'HERNANDEZ', 'CANO', '3', '9850', 2018, 3),\n",
              " ('3456', 'ALEJANDRO', 'DIAZ', 'PRIETO', '2', '9850', 2018, 3),\n",
              " ('3445', 'MARIA', 'MORENO', 'MENDEZ', '1', '9850', 2018, 3),\n",
              " ('6767', 'FERNANDO', 'ROMERO', 'HERRERA', '4', '9850', 2019, 2),\n",
              " ('5654', 'PABLO', 'ALONSO', 'GALLEGO', '1', '9850', 2019, 2),\n",
              " ('5754', 'ANGEL', 'GOMEZ', 'GARRIDO', '1', '9850', 2020, 1),\n",
              " ('4323', 'JORGE', 'GUTIERREZ', 'MARQUEZ', '2', '9850', 2020, 1)]"
            ]
          },
          "metadata": {},
          "execution_count": 36
        }
      ]
    },
    {
      "cell_type": "code",
      "metadata": {
        "colab": {
          "base_uri": "https://localhost:8080/"
        },
        "id": "GrpmdlReUV19",
        "outputId": "d47952ee-827a-40d2-af51-f5b6367c2af3"
      },
      "source": [
        "#ORDENAR DE MAYOR A MENOR antiguedad con forma de tupla, como lo vimos en clase y con ayuda de la función sorted()\n",
        "#GRCIAS A QUE EN EL ANTERIOR BLOQUE DE CODIGO NOS FACILITAMOS LA OBTENCION DE LOS DATOS COMPLETOS DE CADA TRABAJADOR\n",
        "#BASTO SOLO CON COPIAR Y PEGAR DENTRO DE UNA TUPLA\n",
        "tuplas_datos = [\n",
        "        ('2345', 'CARLOS', 'PEREZ', 'CASTILLO', '0', '9850', 2017, 4),\n",
        "        ('5754', 'ANGEL', 'GOMEZ', 'GARRIDO', '1', '9850', 2020, 1),\n",
        "        ('5345', 'JESUS', 'MARTIN', 'SANTOS', '2', '9850', 2016, 5),\n",
        "        ('3267', 'DAVID', 'JIMENEZ', 'LOZANO', '2', '9850', 2017, 4),\n",
        "        ('8765', 'PEDRO', 'RUIZ', 'GUERRERO', '2', '9850', 2017, 4),\n",
        "        ('5454', 'DANIEL', 'HERNANDEZ', 'CANO', '3', '9850', 2018, 3),\n",
        "        ('3456', 'ALEJANDRO', 'DIAZ', 'PRIETO', '2', '9850', 2018, 3),\n",
        "        ('3445', 'MARIA', 'MORENO', 'MENDEZ', '1', '9850', 2018, 3),\n",
        "        ('9088', 'ALBERTO', 'MU\\x84OZ', 'CRUZ', '1', '9850', 2017, 4),\n",
        "        ('8877', 'RAFAEL', 'ALVAREZ', 'FLORES', '2', '9850', 2017, 4),\n",
        "        ('6767', 'FERNANDO', 'ROMERO', 'HERRERA', '4', '9850', 2019, 2),\n",
        "        ('5654', 'PABLO', 'ALONSO', 'GALLEGO', '1', '9850', 2019, 2),\n",
        "        ('4323', 'JORGE', 'GUTIERREZ', 'MARQUEZ', '2', '9850', 2020, 1),\n",
        "        ('2232', 'RAMON', 'NAVARRO', 'LEON', '1', '9850', 2016, 5)\n",
        "    ]\n",
        "# ordenar los datos por año de antiguedad\n",
        "ordenados = sorted(tuplas_datos, reverse=True, key=lambda antiguedad : antiguedad[7] )\n",
        "for j in ordenados:\n",
        "    print(j)"
      ],
      "execution_count": 50,
      "outputs": [
        {
          "output_type": "stream",
          "name": "stdout",
          "text": [
            "('5345', 'JESUS', 'MARTIN', 'SANTOS', '2', '9850', 2016, 5)\n",
            "('2232', 'RAMON', 'NAVARRO', 'LEON', '1', '9850', 2016, 5)\n",
            "('2345', 'CARLOS', 'PEREZ', 'CASTILLO', '0', '9850', 2017, 4)\n",
            "('3267', 'DAVID', 'JIMENEZ', 'LOZANO', '2', '9850', 2017, 4)\n",
            "('8765', 'PEDRO', 'RUIZ', 'GUERRERO', '2', '9850', 2017, 4)\n",
            "('9088', 'ALBERTO', 'MU\\x84OZ', 'CRUZ', '1', '9850', 2017, 4)\n",
            "('8877', 'RAFAEL', 'ALVAREZ', 'FLORES', '2', '9850', 2017, 4)\n",
            "('5454', 'DANIEL', 'HERNANDEZ', 'CANO', '3', '9850', 2018, 3)\n",
            "('3456', 'ALEJANDRO', 'DIAZ', 'PRIETO', '2', '9850', 2018, 3)\n",
            "('3445', 'MARIA', 'MORENO', 'MENDEZ', '1', '9850', 2018, 3)\n",
            "('6767', 'FERNANDO', 'ROMERO', 'HERRERA', '4', '9850', 2019, 2)\n",
            "('5654', 'PABLO', 'ALONSO', 'GALLEGO', '1', '9850', 2019, 2)\n",
            "('5754', 'ANGEL', 'GOMEZ', 'GARRIDO', '1', '9850', 2020, 1)\n",
            "('4323', 'JORGE', 'GUTIERREZ', 'MARQUEZ', '2', '9850', 2020, 1)\n"
          ]
        }
      ]
    },
    {
      "cell_type": "code",
      "metadata": {
        "colab": {
          "base_uri": "https://localhost:8080/"
        },
        "id": "FfmZ2_djUYSp",
        "outputId": "63dbe3b0-62bd-4261-e81e-db350533c991"
      },
      "source": [
        "#DE MENOR A MAYOR ANTIGUEDAD USANDO EL METODO BURBUJA Y SIN MOSTRAR LOS DATOS DE CADA TRABAJADOR\n",
        "i=0\n",
        "j=1\n",
        "años_antiguedad=[]\n",
        "for a in lineas:    #for para hacer toda una lista, unicamente con los años de antiguedad\n",
        "    linea=a.split(',')  #dividir por comas el array\n",
        "    linea[6] = float(linea[6])\n",
        "    años_antigue = 2021-linea[6]\n",
        "    años_antiguedad.append(años_antigue)\n",
        "print(años_antiguedad)\n",
        "\n",
        "    #años antiguedad\n",
        "    #metodo de la burbuja con 2 bucles for ordenamos el bucle de menor a mayor y despues solo quedari tomar el primero y último de la lista\n",
        "for recorrido in range (1, len(años_antiguedad)):          \n",
        "    for pos in range (len(años_antiguedad)-recorrido):\n",
        "        if (años_antiguedad[pos]>años_antiguedad[pos+1]):\n",
        "            temp=años_antiguedad[pos]\n",
        "            años_antiguedad[pos]=años_antiguedad[pos+1]\n",
        "            años_antiguedad[pos+1] = temp\n",
        "print('DE MENOR A MAYOR ANTIGUEDAD',años_antiguedad)\n",
        "\n"
      ],
      "execution_count": 25,
      "outputs": [
        {
          "output_type": "stream",
          "name": "stdout",
          "text": [
            "[4.0, 1.0, 5.0, 4.0, 4.0, 3.0, 3.0, 3.0, 4.0, 4.0, 2.0, 2.0, 1.0, 5.0]\n",
            "DE MENOR A MAYOR ANTIGUEDAD [1.0, 1.0, 2.0, 2.0, 3.0, 3.0, 3.0, 4.0, 4.0, 4.0, 4.0, 4.0, 5.0, 5.0]\n"
          ]
        }
      ]
    }
  ]
}